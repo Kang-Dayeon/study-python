{
  "nbformat": 4,
  "nbformat_minor": 0,
  "metadata": {
    "colab": {
      "provenance": [],
      "toc_visible": true,
      "authorship_tag": "ABX9TyODsJY9oRme3ILAMJFpV26C",
      "include_colab_link": true
    },
    "kernelspec": {
      "name": "python3",
      "display_name": "Python 3"
    },
    "language_info": {
      "name": "python"
    }
  },
  "cells": [
    {
      "cell_type": "markdown",
      "metadata": {
        "id": "view-in-github",
        "colab_type": "text"
      },
      "source": [
        "<a href=\"https://colab.research.google.com/github/Kang-Dayeon/study-python/blob/main/chap3test.ipynb\" target=\"_parent\"><img src=\"https://colab.research.google.com/assets/colab-badge.svg\" alt=\"Open In Colab\"/></a>"
      ]
    },
    {
      "cell_type": "markdown",
      "source": [
        "# **google colab을 이용한 python프로그래밍**\n",
        "마크다운 기반의 텍스트 입력 가능"
      ],
      "metadata": {
        "id": "FKLEBiPyKCPQ"
      }
    },
    {
      "cell_type": "code",
      "source": [
        "a = 10\n",
        "print(a)"
      ],
      "metadata": {
        "colab": {
          "base_uri": "https://localhost:8080/"
        },
        "id": "RZhphWq0J0QU",
        "outputId": "fc20c709-47ec-4948-b2e5-894c3c104a35"
      },
      "execution_count": null,
      "outputs": [
        {
          "output_type": "stream",
          "name": "stdout",
          "text": [
            "10\n"
          ]
        }
      ]
    },
    {
      "cell_type": "code",
      "source": [
        "a = 2 ** 2\n",
        "print(a)"
      ],
      "metadata": {
        "id": "HK0QSDReKKAM",
        "colab": {
          "base_uri": "https://localhost:8080/"
        },
        "outputId": "3b1a374e-6e69-4c62-bf83-4b2931767a6c"
      },
      "execution_count": 3,
      "outputs": [
        {
          "output_type": "stream",
          "name": "stdout",
          "text": [
            "4\n"
          ]
        }
      ]
    },
    {
      "cell_type": "code",
      "source": [
        "apple = 2\n",
        "banana = 3\n",
        "cranberry = 1\n",
        "detox = (banana ** 2 - 4 * apple * cranberry) // apple\n",
        "print(detox)"
      ],
      "metadata": {
        "colab": {
          "base_uri": "https://localhost:8080/"
        },
        "id": "WSKkWw1UAXZA",
        "outputId": "e410cbac-052f-4148-e05e-4fdf0d84e8b1"
      },
      "execution_count": 6,
      "outputs": [
        {
          "output_type": "stream",
          "name": "stdout",
          "text": [
            "0\n"
          ]
        }
      ]
    },
    {
      "cell_type": "code",
      "source": [
        "12 // 2"
      ],
      "metadata": {
        "colab": {
          "base_uri": "https://localhost:8080/"
        },
        "id": "6em46-x3BW3G",
        "outputId": "e839398f-6c70-4a45-b067-55c626db3fdb"
      },
      "execution_count": 11,
      "outputs": [
        {
          "output_type": "execute_result",
          "data": {
            "text/plain": [
              "6"
            ]
          },
          "metadata": {},
          "execution_count": 11
        }
      ]
    },
    {
      "cell_type": "code",
      "source": [],
      "metadata": {
        "id": "8GbU9rn_6tXh"
      },
      "execution_count": null,
      "outputs": []
    }
  ]
}